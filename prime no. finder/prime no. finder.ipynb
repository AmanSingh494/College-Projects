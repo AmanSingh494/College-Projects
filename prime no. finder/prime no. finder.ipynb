{
 "cells": [
  {
   "cell_type": "code",
   "execution_count": 11,
   "metadata": {},
   "outputs": [
    {
     "name": "stdout",
     "output_type": "stream",
     "text": [
      "[2, 3, 5, 7, 11, 13, 17, 19, 23, 29, 31, 37, 41, 43, 47, 53, 59, 61, 67, 71, 73, 79, 83, 89, 97, 101, 103, 107, 109, 113, 127, 131, 137, 139, 149, 151, 157, 163, 167, 173, 179, 181, 191, 193, 197, 199, 211, 223, 227, 229, 233, 239, 241, 251, 257, 263, 269, 271, 277, 281, 283, 293]\n"
     ]
    }
   ],
   "source": [
    "no = int(input('Type a no.'))\n",
    "arr = []\n",
    "i = 2\n",
    "checker = 2\n",
    "checkerChange = 'False'\n",
    "flag = 0\n",
    "while(i <= no):\n",
    "    # print('while1')\n",
    "    while(checker < i):\n",
    "        # print('while2')\n",
    "        if(i % checker == 0):\n",
    "            # print('flag add')\n",
    "            flag = flag + 1 \n",
    "            checkerChange = 'False'\n",
    "            i = i + 1\n",
    "            checker = 2\n",
    "            break \n",
    "        else: \n",
    "            # print('checker add')\n",
    "            checker = checker + 1\n",
    "            checkerChange = 'True'\n",
    "    if(i == checker):\n",
    "        # print('checker change')\n",
    "        flag = 0\n",
    "        checkerChange = 'False'\n",
    "    if ( flag == 0 and checkerChange == 'False') :\n",
    "        # print(f'append {i}' )\n",
    "        arr.append(i)\n",
    "        i = i+1\n",
    "        checker = 2\n",
    "print(arr)\n"
   ]
  }
 ],
 "metadata": {
  "kernelspec": {
   "display_name": "Python 3",
   "language": "python",
   "name": "python3"
  },
  "language_info": {
   "codemirror_mode": {
    "name": "ipython",
    "version": 3
   },
   "file_extension": ".py",
   "mimetype": "text/x-python",
   "name": "python",
   "nbconvert_exporter": "python",
   "pygments_lexer": "ipython3",
   "version": "3.11.4"
  },
  "orig_nbformat": 4
 },
 "nbformat": 4,
 "nbformat_minor": 2
}
